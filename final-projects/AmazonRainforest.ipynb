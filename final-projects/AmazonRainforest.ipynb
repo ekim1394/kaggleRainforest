{
 "cells": [
  {
   "cell_type": "code",
   "execution_count": 46,
   "metadata": {
    "collapsed": true
   },
   "outputs": [],
   "source": [
    "# Imports for finding files\n",
    "import sys\n",
    "import os\n",
    "import subprocess\n",
    "\n",
    "from six import string_types\n",
    "\n",
    "# Make sure you have all of these packages installed, e.g. via pip\n",
    "import numpy as np\n",
    "import pandas as pd\n",
    "import seaborn as sns\n",
    "import matplotlib.pyplot as plt\n",
    "import matplotlib.image as mpimg\n",
    "import scipy\n",
    "from skimage import io\n",
    "from scipy import ndimage\n",
    "from IPython.display import display\n",
    "%matplotlib inline"
   ]
  },
  {
   "cell_type": "code",
   "execution_count": 47,
   "metadata": {
    "collapsed": false
   },
   "outputs": [
    {
     "name": "stdout",
     "output_type": "stream",
     "text": [
      "40479 images in dataset\n"
     ]
    },
    {
     "data": {
      "text/html": [
       "<div>\n",
       "<table border=\"1\" class=\"dataframe\">\n",
       "  <thead>\n",
       "    <tr style=\"text-align: right;\">\n",
       "      <th></th>\n",
       "      <th>image_name</th>\n",
       "      <th>tags</th>\n",
       "    </tr>\n",
       "  </thead>\n",
       "  <tbody>\n",
       "    <tr>\n",
       "      <th>0</th>\n",
       "      <td>train_0</td>\n",
       "      <td>haze primary</td>\n",
       "    </tr>\n",
       "    <tr>\n",
       "      <th>1</th>\n",
       "      <td>train_1</td>\n",
       "      <td>agriculture clear primary water</td>\n",
       "    </tr>\n",
       "    <tr>\n",
       "      <th>2</th>\n",
       "      <td>train_2</td>\n",
       "      <td>clear primary</td>\n",
       "    </tr>\n",
       "    <tr>\n",
       "      <th>3</th>\n",
       "      <td>train_3</td>\n",
       "      <td>clear primary</td>\n",
       "    </tr>\n",
       "    <tr>\n",
       "      <th>4</th>\n",
       "      <td>train_4</td>\n",
       "      <td>agriculture clear habitation primary road</td>\n",
       "    </tr>\n",
       "  </tbody>\n",
       "</table>\n",
       "</div>"
      ],
      "text/plain": [
       "  image_name                                       tags\n",
       "0    train_0                               haze primary\n",
       "1    train_1            agriculture clear primary water\n",
       "2    train_2                              clear primary\n",
       "3    train_3                              clear primary\n",
       "4    train_4  agriculture clear habitation primary road"
      ]
     },
     "execution_count": 47,
     "metadata": {},
     "output_type": "execute_result"
    }
   ],
   "source": [
    "# Prelim data exploration\n",
    "data = pd.read_csv(\"train_v2.csv\")\n",
    "print str(data.shape[0]) + \" images in dataset\" \n",
    "data.head()"
   ]
  },
  {
   "cell_type": "markdown",
   "metadata": {},
   "source": [
    "## Data just shows image name and tags. Need to separate out tags into other columns"
   ]
  },
  {
   "cell_type": "code",
   "execution_count": 48,
   "metadata": {
    "collapsed": false
   },
   "outputs": [
    {
     "name": "stdout",
     "output_type": "stream",
     "text": [
      "['haze', 'primary', 'agriculture', 'clear', 'water', 'habitation', 'road', 'cultivation', 'slash_burn', 'cloudy', 'partly_cloudy', 'conventional_mine', 'bare_ground', 'artisinal_mine', 'blooming', 'selective_logging', 'blow_down']\n"
     ]
    }
   ],
   "source": [
    "# Build list with unique labels\n",
    "label_list = []\n",
    "for tag_str in data.tags.values:\n",
    "    labels = tag_str.split(' ')\n",
    "    for label in labels:\n",
    "        if label not in label_list:\n",
    "            label_list.append(label)\n",
    "            \n",
    "# list of labels\n",
    "print label_list"
   ]
  },
  {
   "cell_type": "code",
   "execution_count": 49,
   "metadata": {
    "collapsed": false
   },
   "outputs": [
    {
     "data": {
      "text/html": [
       "<div>\n",
       "<table border=\"1\" class=\"dataframe\">\n",
       "  <thead>\n",
       "    <tr style=\"text-align: right;\">\n",
       "      <th></th>\n",
       "      <th>image_name</th>\n",
       "      <th>tags</th>\n",
       "      <th>haze</th>\n",
       "      <th>primary</th>\n",
       "      <th>agriculture</th>\n",
       "      <th>clear</th>\n",
       "      <th>water</th>\n",
       "      <th>habitation</th>\n",
       "      <th>road</th>\n",
       "      <th>cultivation</th>\n",
       "      <th>slash_burn</th>\n",
       "      <th>cloudy</th>\n",
       "      <th>partly_cloudy</th>\n",
       "      <th>conventional_mine</th>\n",
       "      <th>bare_ground</th>\n",
       "      <th>artisinal_mine</th>\n",
       "      <th>blooming</th>\n",
       "      <th>selective_logging</th>\n",
       "      <th>blow_down</th>\n",
       "    </tr>\n",
       "  </thead>\n",
       "  <tbody>\n",
       "    <tr>\n",
       "      <th>0</th>\n",
       "      <td>train_0</td>\n",
       "      <td>haze primary</td>\n",
       "      <td>1</td>\n",
       "      <td>1</td>\n",
       "      <td>0</td>\n",
       "      <td>0</td>\n",
       "      <td>0</td>\n",
       "      <td>0</td>\n",
       "      <td>0</td>\n",
       "      <td>0</td>\n",
       "      <td>0</td>\n",
       "      <td>0</td>\n",
       "      <td>0</td>\n",
       "      <td>0</td>\n",
       "      <td>0</td>\n",
       "      <td>0</td>\n",
       "      <td>0</td>\n",
       "      <td>0</td>\n",
       "      <td>0</td>\n",
       "    </tr>\n",
       "    <tr>\n",
       "      <th>1</th>\n",
       "      <td>train_1</td>\n",
       "      <td>agriculture clear primary water</td>\n",
       "      <td>0</td>\n",
       "      <td>1</td>\n",
       "      <td>1</td>\n",
       "      <td>1</td>\n",
       "      <td>1</td>\n",
       "      <td>0</td>\n",
       "      <td>0</td>\n",
       "      <td>0</td>\n",
       "      <td>0</td>\n",
       "      <td>0</td>\n",
       "      <td>0</td>\n",
       "      <td>0</td>\n",
       "      <td>0</td>\n",
       "      <td>0</td>\n",
       "      <td>0</td>\n",
       "      <td>0</td>\n",
       "      <td>0</td>\n",
       "    </tr>\n",
       "    <tr>\n",
       "      <th>2</th>\n",
       "      <td>train_2</td>\n",
       "      <td>clear primary</td>\n",
       "      <td>0</td>\n",
       "      <td>1</td>\n",
       "      <td>0</td>\n",
       "      <td>1</td>\n",
       "      <td>0</td>\n",
       "      <td>0</td>\n",
       "      <td>0</td>\n",
       "      <td>0</td>\n",
       "      <td>0</td>\n",
       "      <td>0</td>\n",
       "      <td>0</td>\n",
       "      <td>0</td>\n",
       "      <td>0</td>\n",
       "      <td>0</td>\n",
       "      <td>0</td>\n",
       "      <td>0</td>\n",
       "      <td>0</td>\n",
       "    </tr>\n",
       "    <tr>\n",
       "      <th>3</th>\n",
       "      <td>train_3</td>\n",
       "      <td>clear primary</td>\n",
       "      <td>0</td>\n",
       "      <td>1</td>\n",
       "      <td>0</td>\n",
       "      <td>1</td>\n",
       "      <td>0</td>\n",
       "      <td>0</td>\n",
       "      <td>0</td>\n",
       "      <td>0</td>\n",
       "      <td>0</td>\n",
       "      <td>0</td>\n",
       "      <td>0</td>\n",
       "      <td>0</td>\n",
       "      <td>0</td>\n",
       "      <td>0</td>\n",
       "      <td>0</td>\n",
       "      <td>0</td>\n",
       "      <td>0</td>\n",
       "    </tr>\n",
       "    <tr>\n",
       "      <th>4</th>\n",
       "      <td>train_4</td>\n",
       "      <td>agriculture clear habitation primary road</td>\n",
       "      <td>0</td>\n",
       "      <td>1</td>\n",
       "      <td>1</td>\n",
       "      <td>1</td>\n",
       "      <td>0</td>\n",
       "      <td>1</td>\n",
       "      <td>1</td>\n",
       "      <td>0</td>\n",
       "      <td>0</td>\n",
       "      <td>0</td>\n",
       "      <td>0</td>\n",
       "      <td>0</td>\n",
       "      <td>0</td>\n",
       "      <td>0</td>\n",
       "      <td>0</td>\n",
       "      <td>0</td>\n",
       "      <td>0</td>\n",
       "    </tr>\n",
       "  </tbody>\n",
       "</table>\n",
       "</div>"
      ],
      "text/plain": [
       "  image_name                                       tags  haze  primary  \\\n",
       "0    train_0                               haze primary     1        1   \n",
       "1    train_1            agriculture clear primary water     0        1   \n",
       "2    train_2                              clear primary     0        1   \n",
       "3    train_3                              clear primary     0        1   \n",
       "4    train_4  agriculture clear habitation primary road     0        1   \n",
       "\n",
       "   agriculture  clear  water  habitation  road  cultivation  slash_burn  \\\n",
       "0            0      0      0           0     0            0           0   \n",
       "1            1      1      1           0     0            0           0   \n",
       "2            0      1      0           0     0            0           0   \n",
       "3            0      1      0           0     0            0           0   \n",
       "4            1      1      0           1     1            0           0   \n",
       "\n",
       "   cloudy  partly_cloudy  conventional_mine  bare_ground  artisinal_mine  \\\n",
       "0       0              0                  0            0               0   \n",
       "1       0              0                  0            0               0   \n",
       "2       0              0                  0            0               0   \n",
       "3       0              0                  0            0               0   \n",
       "4       0              0                  0            0               0   \n",
       "\n",
       "   blooming  selective_logging  blow_down  \n",
       "0         0                  0          0  \n",
       "1         0                  0          0  \n",
       "2         0                  0          0  \n",
       "3         0                  0          0  \n",
       "4         0                  0          0  "
      ]
     },
     "execution_count": 49,
     "metadata": {},
     "output_type": "execute_result"
    }
   ],
   "source": [
    "# Add onehot features for every label\n",
    "for label in label_list:\n",
    "    data[label] = data['tags'].apply(lambda x: 1 if label in x.split(' ') else 0)\n",
    "# Display head\n",
    "data.head()"
   ]
  },
  {
   "cell_type": "code",
   "execution_count": 50,
   "metadata": {
    "collapsed": false
   },
   "outputs": [
    {
     "name": "stdout",
     "output_type": "stream",
     "text": [
      "# of primary rainforest: 37513\n",
      "# of agriculture rainforest: 12315\n"
     ]
    },
    {
     "data": {
      "text/plain": [
       "<matplotlib.axes._subplots.AxesSubplot at 0xce771e10>"
      ]
     },
     "execution_count": 50,
     "metadata": {},
     "output_type": "execute_result"
    },
    {
     "data": {
      "image/png": "[encoded data removed]",
      "text/plain": [
       "<matplotlib.figure.Figure at 0xc8517588>"
      ]
     },
     "metadata": {},
     "output_type": "display_data"
    }
   ],
   "source": [
    "# Visualization of labels\n",
    "\n",
    "print \"# of primary rainforest: {}\".format(data[data.primary==1].shape[0])\n",
    "print \"# of agriculture rainforest: {}\".format(data[data.agriculture==1].shape[0])\n",
    "data[label_list].sum().sort_values().plot.bar()"
   ]
  },
  {
   "cell_type": "code",
   "execution_count": 51,
   "metadata": {
    "collapsed": false
   },
   "outputs": [
    {
     "name": "stdout",
     "output_type": "stream",
     "text": [
      "primary              0.926727\n",
      "clear                0.702364\n",
      "agriculture          0.304232\n",
      "road                 0.199387\n",
      "water                0.183083\n",
      "partly_cloudy        0.179377\n",
      "cultivation          0.110601\n",
      "habitation           0.090417\n",
      "haze                 0.066627\n",
      "cloudy               0.051607\n",
      "bare_ground          0.021295\n",
      "selective_logging    0.008399\n",
      "artisinal_mine       0.008375\n",
      "blooming             0.008202\n",
      "slash_burn           0.005163\n",
      "conventional_mine    0.002470\n",
      "blow_down            0.002421\n",
      "dtype: float64\n"
     ]
    }
   ],
   "source": [
    "# Percentage of labels via mean value counts\n",
    "print data[label_list].mean().sort_values(ascending=False)"
   ]
  },
  {
   "cell_type": "code",
   "execution_count": 52,
   "metadata": {
    "collapsed": false
   },
   "outputs": [
    {
     "name": "stdout",
     "output_type": "stream",
     "text": [
      "primary              37513\n",
      "clear                28431\n",
      "agriculture          12315\n",
      "road                  8071\n",
      "water                 7411\n",
      "partly_cloudy         7261\n",
      "cultivation           4477\n",
      "habitation            3660\n",
      "haze                  2697\n",
      "cloudy                2089\n",
      "bare_ground            862\n",
      "selective_logging      340\n",
      "artisinal_mine         339\n",
      "blooming               332\n",
      "slash_burn             209\n",
      "conventional_mine      100\n",
      "blow_down               98\n",
      "dtype: int64\n"
     ]
    }
   ],
   "source": [
    "# Number of l\n",
    "print data[label_list].sum().sort_values(ascending=False)"
   ]
  },
  {
   "cell_type": "markdown",
   "metadata": {},
   "source": [
    "Creating heatmap to visualize correlations (Took from an example workbook)"
   ]
  },
  {
   "cell_type": "code",
   "execution_count": 53,
   "metadata": {
    "collapsed": false
   },
   "outputs": [
    {
     "data": {
      "text/html": [
       "<div>\n",
       "<table border=\"1\" class=\"dataframe\">\n",
       "  <thead>\n",
       "    <tr style=\"text-align: right;\">\n",
       "      <th></th>\n",
       "      <th>haze</th>\n",
       "      <th>primary</th>\n",
       "      <th>agriculture</th>\n",
       "      <th>clear</th>\n",
       "      <th>water</th>\n",
       "      <th>habitation</th>\n",
       "      <th>road</th>\n",
       "      <th>cultivation</th>\n",
       "      <th>slash_burn</th>\n",
       "      <th>cloudy</th>\n",
       "      <th>partly_cloudy</th>\n",
       "      <th>conventional_mine</th>\n",
       "      <th>bare_ground</th>\n",
       "      <th>artisinal_mine</th>\n",
       "      <th>blooming</th>\n",
       "      <th>selective_logging</th>\n",
       "      <th>blow_down</th>\n",
       "    </tr>\n",
       "  </thead>\n",
       "  <tbody>\n",
       "    <tr>\n",
       "      <th>haze</th>\n",
       "      <td>2697</td>\n",
       "      <td>2670</td>\n",
       "      <td>672</td>\n",
       "      <td>0</td>\n",
       "      <td>613</td>\n",
       "      <td>129</td>\n",
       "      <td>394</td>\n",
       "      <td>202</td>\n",
       "      <td>3</td>\n",
       "      <td>0</td>\n",
       "      <td>0</td>\n",
       "      <td>2</td>\n",
       "      <td>41</td>\n",
       "      <td>5</td>\n",
       "      <td>4</td>\n",
       "      <td>5</td>\n",
       "      <td>0</td>\n",
       "    </tr>\n",
       "    <tr>\n",
       "      <th>primary</th>\n",
       "      <td>2670</td>\n",
       "      <td>37513</td>\n",
       "      <td>11972</td>\n",
       "      <td>27668</td>\n",
       "      <td>7001</td>\n",
       "      <td>3469</td>\n",
       "      <td>7728</td>\n",
       "      <td>4455</td>\n",
       "      <td>209</td>\n",
       "      <td>0</td>\n",
       "      <td>7175</td>\n",
       "      <td>94</td>\n",
       "      <td>683</td>\n",
       "      <td>324</td>\n",
       "      <td>332</td>\n",
       "      <td>340</td>\n",
       "      <td>98</td>\n",
       "    </tr>\n",
       "    <tr>\n",
       "      <th>agriculture</th>\n",
       "      <td>672</td>\n",
       "      <td>11972</td>\n",
       "      <td>12315</td>\n",
       "      <td>9150</td>\n",
       "      <td>2712</td>\n",
       "      <td>2737</td>\n",
       "      <td>6034</td>\n",
       "      <td>3377</td>\n",
       "      <td>119</td>\n",
       "      <td>0</td>\n",
       "      <td>2493</td>\n",
       "      <td>24</td>\n",
       "      <td>225</td>\n",
       "      <td>38</td>\n",
       "      <td>32</td>\n",
       "      <td>65</td>\n",
       "      <td>22</td>\n",
       "    </tr>\n",
       "    <tr>\n",
       "      <th>clear</th>\n",
       "      <td>0</td>\n",
       "      <td>27668</td>\n",
       "      <td>9150</td>\n",
       "      <td>28431</td>\n",
       "      <td>5502</td>\n",
       "      <td>3090</td>\n",
       "      <td>6295</td>\n",
       "      <td>3527</td>\n",
       "      <td>173</td>\n",
       "      <td>0</td>\n",
       "      <td>0</td>\n",
       "      <td>70</td>\n",
       "      <td>747</td>\n",
       "      <td>307</td>\n",
       "      <td>311</td>\n",
       "      <td>308</td>\n",
       "      <td>85</td>\n",
       "    </tr>\n",
       "    <tr>\n",
       "      <th>water</th>\n",
       "      <td>613</td>\n",
       "      <td>7001</td>\n",
       "      <td>2712</td>\n",
       "      <td>5502</td>\n",
       "      <td>7411</td>\n",
       "      <td>915</td>\n",
       "      <td>2125</td>\n",
       "      <td>868</td>\n",
       "      <td>24</td>\n",
       "      <td>0</td>\n",
       "      <td>1295</td>\n",
       "      <td>26</td>\n",
       "      <td>206</td>\n",
       "      <td>299</td>\n",
       "      <td>16</td>\n",
       "      <td>49</td>\n",
       "      <td>3</td>\n",
       "    </tr>\n",
       "    <tr>\n",
       "      <th>habitation</th>\n",
       "      <td>129</td>\n",
       "      <td>3469</td>\n",
       "      <td>2737</td>\n",
       "      <td>3090</td>\n",
       "      <td>915</td>\n",
       "      <td>3660</td>\n",
       "      <td>2786</td>\n",
       "      <td>895</td>\n",
       "      <td>41</td>\n",
       "      <td>0</td>\n",
       "      <td>441</td>\n",
       "      <td>36</td>\n",
       "      <td>163</td>\n",
       "      <td>29</td>\n",
       "      <td>4</td>\n",
       "      <td>13</td>\n",
       "      <td>3</td>\n",
       "    </tr>\n",
       "    <tr>\n",
       "      <th>road</th>\n",
       "      <td>394</td>\n",
       "      <td>7728</td>\n",
       "      <td>6034</td>\n",
       "      <td>6295</td>\n",
       "      <td>2125</td>\n",
       "      <td>2786</td>\n",
       "      <td>8071</td>\n",
       "      <td>1294</td>\n",
       "      <td>36</td>\n",
       "      <td>0</td>\n",
       "      <td>1382</td>\n",
       "      <td>59</td>\n",
       "      <td>323</td>\n",
       "      <td>110</td>\n",
       "      <td>10</td>\n",
       "      <td>151</td>\n",
       "      <td>2</td>\n",
       "    </tr>\n",
       "    <tr>\n",
       "      <th>cultivation</th>\n",
       "      <td>202</td>\n",
       "      <td>4455</td>\n",
       "      <td>3377</td>\n",
       "      <td>3527</td>\n",
       "      <td>868</td>\n",
       "      <td>895</td>\n",
       "      <td>1294</td>\n",
       "      <td>4477</td>\n",
       "      <td>126</td>\n",
       "      <td>0</td>\n",
       "      <td>748</td>\n",
       "      <td>4</td>\n",
       "      <td>89</td>\n",
       "      <td>18</td>\n",
       "      <td>35</td>\n",
       "      <td>58</td>\n",
       "      <td>8</td>\n",
       "    </tr>\n",
       "    <tr>\n",
       "      <th>slash_burn</th>\n",
       "      <td>3</td>\n",
       "      <td>209</td>\n",
       "      <td>119</td>\n",
       "      <td>173</td>\n",
       "      <td>24</td>\n",
       "      <td>41</td>\n",
       "      <td>36</td>\n",
       "      <td>126</td>\n",
       "      <td>209</td>\n",
       "      <td>0</td>\n",
       "      <td>33</td>\n",
       "      <td>0</td>\n",
       "      <td>10</td>\n",
       "      <td>0</td>\n",
       "      <td>2</td>\n",
       "      <td>2</td>\n",
       "      <td>2</td>\n",
       "    </tr>\n",
       "    <tr>\n",
       "      <th>cloudy</th>\n",
       "      <td>0</td>\n",
       "      <td>0</td>\n",
       "      <td>0</td>\n",
       "      <td>0</td>\n",
       "      <td>0</td>\n",
       "      <td>0</td>\n",
       "      <td>0</td>\n",
       "      <td>0</td>\n",
       "      <td>0</td>\n",
       "      <td>2089</td>\n",
       "      <td>0</td>\n",
       "      <td>0</td>\n",
       "      <td>0</td>\n",
       "      <td>0</td>\n",
       "      <td>0</td>\n",
       "      <td>0</td>\n",
       "      <td>0</td>\n",
       "    </tr>\n",
       "    <tr>\n",
       "      <th>partly_cloudy</th>\n",
       "      <td>0</td>\n",
       "      <td>7175</td>\n",
       "      <td>2493</td>\n",
       "      <td>0</td>\n",
       "      <td>1295</td>\n",
       "      <td>441</td>\n",
       "      <td>1382</td>\n",
       "      <td>748</td>\n",
       "      <td>33</td>\n",
       "      <td>0</td>\n",
       "      <td>7261</td>\n",
       "      <td>28</td>\n",
       "      <td>74</td>\n",
       "      <td>27</td>\n",
       "      <td>17</td>\n",
       "      <td>27</td>\n",
       "      <td>13</td>\n",
       "    </tr>\n",
       "    <tr>\n",
       "      <th>conventional_mine</th>\n",
       "      <td>2</td>\n",
       "      <td>94</td>\n",
       "      <td>24</td>\n",
       "      <td>70</td>\n",
       "      <td>26</td>\n",
       "      <td>36</td>\n",
       "      <td>59</td>\n",
       "      <td>4</td>\n",
       "      <td>0</td>\n",
       "      <td>0</td>\n",
       "      <td>28</td>\n",
       "      <td>100</td>\n",
       "      <td>10</td>\n",
       "      <td>4</td>\n",
       "      <td>0</td>\n",
       "      <td>0</td>\n",
       "      <td>0</td>\n",
       "    </tr>\n",
       "    <tr>\n",
       "      <th>bare_ground</th>\n",
       "      <td>41</td>\n",
       "      <td>683</td>\n",
       "      <td>225</td>\n",
       "      <td>747</td>\n",
       "      <td>206</td>\n",
       "      <td>163</td>\n",
       "      <td>323</td>\n",
       "      <td>89</td>\n",
       "      <td>10</td>\n",
       "      <td>0</td>\n",
       "      <td>74</td>\n",
       "      <td>10</td>\n",
       "      <td>862</td>\n",
       "      <td>40</td>\n",
       "      <td>3</td>\n",
       "      <td>13</td>\n",
       "      <td>4</td>\n",
       "    </tr>\n",
       "    <tr>\n",
       "      <th>artisinal_mine</th>\n",
       "      <td>5</td>\n",
       "      <td>324</td>\n",
       "      <td>38</td>\n",
       "      <td>307</td>\n",
       "      <td>299</td>\n",
       "      <td>29</td>\n",
       "      <td>110</td>\n",
       "      <td>18</td>\n",
       "      <td>0</td>\n",
       "      <td>0</td>\n",
       "      <td>27</td>\n",
       "      <td>4</td>\n",
       "      <td>40</td>\n",
       "      <td>339</td>\n",
       "      <td>0</td>\n",
       "      <td>6</td>\n",
       "      <td>0</td>\n",
       "    </tr>\n",
       "    <tr>\n",
       "      <th>blooming</th>\n",
       "      <td>4</td>\n",
       "      <td>332</td>\n",
       "      <td>32</td>\n",
       "      <td>311</td>\n",
       "      <td>16</td>\n",
       "      <td>4</td>\n",
       "      <td>10</td>\n",
       "      <td>35</td>\n",
       "      <td>2</td>\n",
       "      <td>0</td>\n",
       "      <td>17</td>\n",
       "      <td>0</td>\n",
       "      <td>3</td>\n",
       "      <td>0</td>\n",
       "      <td>332</td>\n",
       "      <td>7</td>\n",
       "      <td>1</td>\n",
       "    </tr>\n",
       "    <tr>\n",
       "      <th>selective_logging</th>\n",
       "      <td>5</td>\n",
       "      <td>340</td>\n",
       "      <td>65</td>\n",
       "      <td>308</td>\n",
       "      <td>49</td>\n",
       "      <td>13</td>\n",
       "      <td>151</td>\n",
       "      <td>58</td>\n",
       "      <td>2</td>\n",
       "      <td>0</td>\n",
       "      <td>27</td>\n",
       "      <td>0</td>\n",
       "      <td>13</td>\n",
       "      <td>6</td>\n",
       "      <td>7</td>\n",
       "      <td>340</td>\n",
       "      <td>1</td>\n",
       "    </tr>\n",
       "    <tr>\n",
       "      <th>blow_down</th>\n",
       "      <td>0</td>\n",
       "      <td>98</td>\n",
       "      <td>22</td>\n",
       "      <td>85</td>\n",
       "      <td>3</td>\n",
       "      <td>3</td>\n",
       "      <td>2</td>\n",
       "      <td>8</td>\n",
       "      <td>2</td>\n",
       "      <td>0</td>\n",
       "      <td>13</td>\n",
       "      <td>0</td>\n",
       "      <td>4</td>\n",
       "      <td>0</td>\n",
       "      <td>1</td>\n",
       "      <td>1</td>\n",
       "      <td>98</td>\n",
       "    </tr>\n",
       "  </tbody>\n",
       "</table>\n",
       "</div>"
      ],
      "text/plain": [
       "                   haze  primary  agriculture  clear  water  habitation  road  \\\n",
       "haze               2697     2670          672      0    613         129   394   \n",
       "primary            2670    37513        11972  27668   7001        3469  7728   \n",
       "agriculture         672    11972        12315   9150   2712        2737  6034   \n",
       "clear                 0    27668         9150  28431   5502        3090  6295   \n",
       "water               613     7001         2712   5502   7411         915  2125   \n",
       "habitation          129     3469         2737   3090    915        3660  2786   \n",
       "road                394     7728         6034   6295   2125        2786  8071   \n",
       "cultivation         202     4455         3377   3527    868         895  1294   \n",
       "slash_burn            3      209          119    173     24          41    36   \n",
       "cloudy                0        0            0      0      0           0     0   \n",
       "partly_cloudy         0     7175         2493      0   1295         441  1382   \n",
       "conventional_mine     2       94           24     70     26          36    59   \n",
       "bare_ground          41      683          225    747    206         163   323   \n",
       "artisinal_mine        5      324           38    307    299          29   110   \n",
       "blooming              4      332           32    311     16           4    10   \n",
       "selective_logging     5      340           65    308     49          13   151   \n",
       "blow_down             0       98           22     85      3           3     2   \n",
       "\n",
       "                   cultivation  slash_burn  cloudy  partly_cloudy  \\\n",
       "haze                       202           3       0              0   \n",
       "primary                   4455         209       0           7175   \n",
       "agriculture               3377         119       0           2493   \n",
       "clear                     3527         173       0              0   \n",
       "water                      868          24       0           1295   \n",
       "habitation                 895          41       0            441   \n",
       "road                      1294          36       0           1382   \n",
       "cultivation               4477         126       0            748   \n",
       "slash_burn                 126         209       0             33   \n",
       "cloudy                       0           0    2089              0   \n",
       "partly_cloudy              748          33       0           7261   \n",
       "conventional_mine            4           0       0             28   \n",
       "bare_ground                 89          10       0             74   \n",
       "artisinal_mine              18           0       0             27   \n",
       "blooming                    35           2       0             17   \n",
       "selective_logging           58           2       0             27   \n",
       "blow_down                    8           2       0             13   \n",
       "\n",
       "                   conventional_mine  bare_ground  artisinal_mine  blooming  \\\n",
       "haze                               2           41               5         4   \n",
       "primary                           94          683             324       332   \n",
       "agriculture                       24          225              38        32   \n",
       "clear                             70          747             307       311   \n",
       "water                             26          206             299        16   \n",
       "habitation                        36          163              29         4   \n",
       "road                              59          323             110        10   \n",
       "cultivation                        4           89              18        35   \n",
       "slash_burn                         0           10               0         2   \n",
       "cloudy                             0            0               0         0   \n",
       "partly_cloudy                     28           74              27        17   \n",
       "conventional_mine                100           10               4         0   \n",
       "bare_ground                       10          862              40         3   \n",
       "artisinal_mine                     4           40             339         0   \n",
       "blooming                           0            3               0       332   \n",
       "selective_logging                  0           13               6         7   \n",
       "blow_down                          0            4               0         1   \n",
       "\n",
       "                   selective_logging  blow_down  \n",
       "haze                               5          0  \n",
       "primary                          340         98  \n",
       "agriculture                       65         22  \n",
       "clear                            308         85  \n",
       "water                             49          3  \n",
       "habitation                        13          3  \n",
       "road                             151          2  \n",
       "cultivation                       58          8  \n",
       "slash_burn                         2          2  \n",
       "cloudy                             0          0  \n",
       "partly_cloudy                     27         13  \n",
       "conventional_mine                  0          0  \n",
       "bare_ground                       13          4  \n",
       "artisinal_mine                     6          0  \n",
       "blooming                           7          1  \n",
       "selective_logging                340          1  \n",
       "blow_down                          1         98  "
      ]
     },
     "execution_count": 53,
     "metadata": {},
     "output_type": "execute_result"
    },
    {
     "data": {
      "image/png": "[encoded data removed]",
      "text/plain": [
       "<matplotlib.figure.Figure at 0x2638e8550>"
      ]
     },
     "metadata": {},
     "output_type": "display_data"
    }
   ],
   "source": [
    "# Counts values of tags with other tags\n",
    "def make_cooccurence_matrix(labels):\n",
    "    numeric_df = data[labels]; \n",
    "    c_matrix = numeric_df.T.dot(numeric_df)\n",
    "    sns.heatmap(c_matrix)\n",
    "    return c_matrix\n",
    "    \n",
    "# Compute the co-ocurrence matrix\n",
    "make_cooccurence_matrix(label_list)"
   ]
  },
  {
   "cell_type": "markdown",
   "metadata": {},
   "source": [
    "The above is quite a large mess, so lets separate out tags into groups"
   ]
  },
  {
   "cell_type": "code",
   "execution_count": 54,
   "metadata": {
    "collapsed": false
   },
   "outputs": [
    {
     "data": {
      "text/html": [
       "<div>\n",
       "<table border=\"1\" class=\"dataframe\">\n",
       "  <thead>\n",
       "    <tr style=\"text-align: right;\">\n",
       "      <th></th>\n",
       "      <th>primary</th>\n",
       "      <th>agriculture</th>\n",
       "      <th>water</th>\n",
       "      <th>cultivation</th>\n",
       "      <th>habitation</th>\n",
       "    </tr>\n",
       "  </thead>\n",
       "  <tbody>\n",
       "    <tr>\n",
       "      <th>primary</th>\n",
       "      <td>37513</td>\n",
       "      <td>11972</td>\n",
       "      <td>7001</td>\n",
       "      <td>4455</td>\n",
       "      <td>3469</td>\n",
       "    </tr>\n",
       "    <tr>\n",
       "      <th>agriculture</th>\n",
       "      <td>11972</td>\n",
       "      <td>12315</td>\n",
       "      <td>2712</td>\n",
       "      <td>3377</td>\n",
       "      <td>2737</td>\n",
       "    </tr>\n",
       "    <tr>\n",
       "      <th>water</th>\n",
       "      <td>7001</td>\n",
       "      <td>2712</td>\n",
       "      <td>7411</td>\n",
       "      <td>868</td>\n",
       "      <td>915</td>\n",
       "    </tr>\n",
       "    <tr>\n",
       "      <th>cultivation</th>\n",
       "      <td>4455</td>\n",
       "      <td>3377</td>\n",
       "      <td>868</td>\n",
       "      <td>4477</td>\n",
       "      <td>895</td>\n",
       "    </tr>\n",
       "    <tr>\n",
       "      <th>habitation</th>\n",
       "      <td>3469</td>\n",
       "      <td>2737</td>\n",
       "      <td>915</td>\n",
       "      <td>895</td>\n",
       "      <td>3660</td>\n",
       "    </tr>\n",
       "  </tbody>\n",
       "</table>\n",
       "</div>"
      ],
      "text/plain": [
       "             primary  agriculture  water  cultivation  habitation\n",
       "primary        37513        11972   7001         4455        3469\n",
       "agriculture    11972        12315   2712         3377        2737\n",
       "water           7001         2712   7411          868         915\n",
       "cultivation     4455         3377    868         4477         895\n",
       "habitation      3469         2737    915          895        3660"
      ]
     },
     "execution_count": 54,
     "metadata": {},
     "output_type": "execute_result"
    },
    {
     "data": {
      "image/png": "[encoded data removed]",
      "text/plain": [
       "<matplotlib.figure.Figure at 0xbadbb0f0>"
      ]
     },
     "metadata": {},
     "output_type": "display_data"
    }
   ],
   "source": [
    "land_labels = ['primary', 'agriculture', 'water', 'cultivation', 'habitation']\n",
    "make_cooccurence_matrix(land_labels)"
   ]
  },
  {
   "cell_type": "code",
   "execution_count": 55,
   "metadata": {
    "collapsed": false
   },
   "outputs": [
    {
     "data": {
      "text/html": [
       "<div>\n",
       "<table border=\"1\" class=\"dataframe\">\n",
       "  <thead>\n",
       "    <tr style=\"text-align: right;\">\n",
       "      <th></th>\n",
       "      <th>slash_burn</th>\n",
       "      <th>conventional_mine</th>\n",
       "      <th>bare_ground</th>\n",
       "      <th>artisinal_mine</th>\n",
       "      <th>blooming</th>\n",
       "      <th>selective_logging</th>\n",
       "      <th>blow_down</th>\n",
       "    </tr>\n",
       "  </thead>\n",
       "  <tbody>\n",
       "    <tr>\n",
       "      <th>slash_burn</th>\n",
       "      <td>209</td>\n",
       "      <td>0</td>\n",
       "      <td>10</td>\n",
       "      <td>0</td>\n",
       "      <td>2</td>\n",
       "      <td>2</td>\n",
       "      <td>2</td>\n",
       "    </tr>\n",
       "    <tr>\n",
       "      <th>conventional_mine</th>\n",
       "      <td>0</td>\n",
       "      <td>100</td>\n",
       "      <td>10</td>\n",
       "      <td>4</td>\n",
       "      <td>0</td>\n",
       "      <td>0</td>\n",
       "      <td>0</td>\n",
       "    </tr>\n",
       "    <tr>\n",
       "      <th>bare_ground</th>\n",
       "      <td>10</td>\n",
       "      <td>10</td>\n",
       "      <td>862</td>\n",
       "      <td>40</td>\n",
       "      <td>3</td>\n",
       "      <td>13</td>\n",
       "      <td>4</td>\n",
       "    </tr>\n",
       "    <tr>\n",
       "      <th>artisinal_mine</th>\n",
       "      <td>0</td>\n",
       "      <td>4</td>\n",
       "      <td>40</td>\n",
       "      <td>339</td>\n",
       "      <td>0</td>\n",
       "      <td>6</td>\n",
       "      <td>0</td>\n",
       "    </tr>\n",
       "    <tr>\n",
       "      <th>blooming</th>\n",
       "      <td>2</td>\n",
       "      <td>0</td>\n",
       "      <td>3</td>\n",
       "      <td>0</td>\n",
       "      <td>332</td>\n",
       "      <td>7</td>\n",
       "      <td>1</td>\n",
       "    </tr>\n",
       "    <tr>\n",
       "      <th>selective_logging</th>\n",
       "      <td>2</td>\n",
       "      <td>0</td>\n",
       "      <td>13</td>\n",
       "      <td>6</td>\n",
       "      <td>7</td>\n",
       "      <td>340</td>\n",
       "      <td>1</td>\n",
       "    </tr>\n",
       "    <tr>\n",
       "      <th>blow_down</th>\n",
       "      <td>2</td>\n",
       "      <td>0</td>\n",
       "      <td>4</td>\n",
       "      <td>0</td>\n",
       "      <td>1</td>\n",
       "      <td>1</td>\n",
       "      <td>98</td>\n",
       "    </tr>\n",
       "  </tbody>\n",
       "</table>\n",
       "</div>"
      ],
      "text/plain": [
       "                   slash_burn  conventional_mine  bare_ground  artisinal_mine  \\\n",
       "slash_burn                209                  0           10               0   \n",
       "conventional_mine           0                100           10               4   \n",
       "bare_ground                10                 10          862              40   \n",
       "artisinal_mine              0                  4           40             339   \n",
       "blooming                    2                  0            3               0   \n",
       "selective_logging           2                  0           13               6   \n",
       "blow_down                   2                  0            4               0   \n",
       "\n",
       "                   blooming  selective_logging  blow_down  \n",
       "slash_burn                2                  2          2  \n",
       "conventional_mine         0                  0          0  \n",
       "bare_ground               3                 13          4  \n",
       "artisinal_mine            0                  6          0  \n",
       "blooming                332                  7          1  \n",
       "selective_logging         7                340          1  \n",
       "blow_down                 1                  1         98  "
      ]
     },
     "execution_count": 55,
     "metadata": {},
     "output_type": "execute_result"
    },
    {
     "data": {
      "image/png": "[encoded data removed]",
      "text/plain": [
       "<matplotlib.figure.Figure at 0xcd0b1da0>"
      ]
     },
     "metadata": {},
     "output_type": "display_data"
    }
   ],
   "source": [
    "rare_labels = [l for l in label_list if data[label_list].sum()[l] < 2000]\n",
    "make_cooccurence_matrix(rare_labels)"
   ]
  },
  {
   "cell_type": "markdown",
   "metadata": {
    "collapsed": true
   },
   "source": [
    "## Let's look at some images!"
   ]
  },
  {
   "cell_type": "code",
   "execution_count": 56,
   "metadata": {
    "collapsed": false
   },
   "outputs": [
    {
     "name": "stdout",
     "output_type": "stream",
     "text": [
      "['train_22037.jpg', 'train_17624.jpg', 'train_2246.jpg', 'train_27635.jpg', 'train_23552.jpg', 'train_26529.jpg', 'train_11835.jpg', 'train_17376.jpg', 'train_12883.jpg', 'train_24105.jpg', 'train_10282.jpg', 'train_11770.jpg', 'train_10637.jpg', 'train_25884.jpg', 'train_11054.jpg', 'train_10615.jpg', 'train_18562.jpg', 'train_16767.jpg', 'train_18819.jpg', 'train_22647.jpg', 'train_27224.jpg', 'train_164.jpg', 'train_23381.jpg', 'train_22779.jpg', 'train_19821.jpg', 'train_27416.jpg', 'train_15797.jpg', 'train_27434.jpg', 'train_11564.jpg', 'train_16455.jpg', 'train_13522.jpg', 'train_19789.jpg', 'train_27807.jpg', 'train_10474.jpg', 'train_16257.jpg', 'train_13831.jpg', 'train_11339.jpg', 'train_1042.jpg', 'train_12973.jpg', 'train_23143.jpg', 'train_20703.jpg', 'train_11545.jpg', 'train_22072.jpg', 'train_18609.jpg', 'train_20666.jpg', 'train_17748.jpg', 'train_12189.jpg', 'train_18163.jpg', 'train_15152.jpg', 'train_11647.jpg', 'train_16962.jpg', 'train_27083.jpg', 'train_26636.jpg', 'train_22696.jpg', 'train_22589.jpg', 'train_12094.jpg', 'train_13743.jpg', 'train_2297.jpg', 'train_23866.jpg', 'train_22163.jpg', 'train_15075.jpg', 'train_22486.jpg', 'train_27964.jpg', 'train_14707.jpg', 'train_18389.jpg', 'train_22228.jpg', 'train_16956.jpg', 'train_2352.jpg', 'train_12881.jpg', 'train_18776.jpg', 'train_16761.jpg', 'train_26017.jpg', 'train_12999.jpg', 'train_26457.jpg', 'train_17668.jpg', 'train_15628.jpg', 'train_18998.jpg', 'train_25638.jpg', 'train_27756.jpg', 'train_13255.jpg', 'train_2117.jpg', 'train_19150.jpg', 'train_23797.jpg', 'train_12464.jpg', 'train_27502.jpg', 'train_17898.jpg', 'train_16675.jpg', 'train_26695.jpg', 'train_27030.jpg', 'train_22967.jpg', 'train_23966.jpg', 'train_1034.jpg', 'train_14639.jpg', 'train_12734.jpg', 'train_17184.jpg', 'train_26224.jpg', 'train_16442.jpg', 'train_24273.jpg', 'train_14341.jpg', 'train_27144.jpg']\n"
     ]
    }
   ],
   "source": [
    "# Pull a list of 20000 image names\n",
    "jpg_list = os.listdir(\"train-jpg\")[:20000]\n",
    "# Select a random sample of 100 among those\n",
    "np.random.shuffle(jpg_list)\n",
    "jpg_list = jpg_list[:100]\n",
    "print(jpg_list)"
   ]
  },
  {
   "cell_type": "code",
   "execution_count": 57,
   "metadata": {
    "collapsed": false
   },
   "outputs": [
    {
     "data": {
      "text/plain": [
       "array([[63, 66, 70, ..., 25, 25, 25],\n",
       "       [82, 85, 87, ..., 49, 48, 47],\n",
       "       [80, 79, 79, ..., 43, 42, 43]])"
      ]
     },
     "execution_count": 57,
     "metadata": {},
     "output_type": "execute_result"
    }
   ],
   "source": [
    "# Creates an array of rgb colors to calibrate images\n",
    "ref_colors = [[],[],[]]\n",
    "for _file in jpg_list:\n",
    "    # keep only the first 3 bands, RGB\n",
    "    _img = mpimg.imread(os.path.join(\"train-jpg\", _file))[:,:,:3]\n",
    "    # Flatten 2-D to 1-D\n",
    "    _data = _img.reshape((-1,3))\n",
    "    # Dump pixel values to aggregation buckets\n",
    "    for i in range(3): \n",
    "        ref_colors[i] = ref_colors[i] + _data[:,i].tolist()\n",
    "    \n",
    "ref_colors = np.array(ref_colors)\n",
    "ref_colors"
   ]
  },
  {
   "cell_type": "code",
   "execution_count": 58,
   "metadata": {
    "collapsed": true
   },
   "outputs": [],
   "source": [
    "ref_means = [np.mean(ref_colors[i]) for i in range(3)]\n",
    "ref_stds = [np.std(ref_colors[i]) for i in range(3)]"
   ]
  },
  {
   "cell_type": "code",
   "execution_count": 59,
   "metadata": {
    "collapsed": true
   },
   "outputs": [],
   "source": [
    "def calibrate_image(rgb_image):\n",
    "    # Transform test image to 32-bit floats to avoid \n",
    "    # surprises when doing arithmetic with it \n",
    "    calibrated_img = rgb_image.copy().astype('float32')\n",
    "\n",
    "    # Loop over RGB\n",
    "    for i in range(3):\n",
    "        # Subtract mean \n",
    "        calibrated_img[:,:,i] = calibrated_img[:,:,i]-np.mean(calibrated_img[:,:,i])\n",
    "        # Normalize variance\n",
    "        calibrated_img[:,:,i] = calibrated_img[:,:,i]/np.std(calibrated_img[:,:,i])\n",
    "        # Scale to reference \n",
    "        calibrated_img[:,:,i] = calibrated_img[:,:,i]*ref_stds[i] + ref_means[i]\n",
    "        # Clip any values going out of the valid range\n",
    "        calibrated_img[:,:,i] = np.clip(calibrated_img[:,:,i],0,255)\n",
    "\n",
    "    # Convert to 8-bit unsigned int\n",
    "    return calibrated_img.astype('uint8')"
   ]
  },
  {
   "cell_type": "code",
   "execution_count": 60,
   "metadata": {
    "collapsed": true
   },
   "outputs": [],
   "source": [
    "def sample_images(tags, n=None):\n",
    "    \"\"\"Randomly sample n images with the specified tags.\"\"\"\n",
    "    condition = True\n",
    "    if isinstance(tags, string_types):\n",
    "        raise ValueError(\"Pass a list of tags, not a single tag.\")\n",
    "    for tag in tags:\n",
    "        condition = condition & data[tag] == 1\n",
    "    if n is not None:\n",
    "        return data[condition].sample(n)\n",
    "    else:\n",
    "        return data[condition]\n",
    "    \n",
    "def load_image(filename):\n",
    "    '''Look through the directory tree to find the image you specified\n",
    "    (e.g. train_10.tif vs. train_10.jpg)'''\n",
    "    for dirname in os.listdir(\".\"):\n",
    "        path = os.path.abspath(os.path.join(\".\", dirname, filename))\n",
    "        if os.path.exists(path):\n",
    "            print('Found image {}'.format(path))\n",
    "            return io.imread(path)\n",
    "    # if you reach this line, you didn't find the image you're looking for\n",
    "    print('Load failed: could not find image {}'.format(path))\n",
    "    \n",
    "def sample_to_fname(sample_df, row_idx, suffix='jpg'):\n",
    "    '''Given a dataframe of sampled images, get the\n",
    "    corresponding filename.'''\n",
    "    fname = sample_df.get_value(sample_df.index[row_idx], 'image_name')\n",
    "    return '{}.{}'.format(fname, suffix)"
   ]
  },
  {
   "cell_type": "code",
   "execution_count": 61,
   "metadata": {
    "collapsed": false
   },
   "outputs": [
    {
     "name": "stdout",
     "output_type": "stream",
     "text": [
      "Found image C:\\Users\\simpl\\Documents\\ds-dc-19\\final-projects\\train-jpg\\train_32021.jpg\n"
     ]
    },
    {
     "data": {
      "image/png": "[encoded data removed]",
      "text/plain": [
       "<matplotlib.figure.Figure at 0x82d92860>"
      ]
     },
     "metadata": {},
     "output_type": "display_data"
    }
   ],
   "source": [
    "sampled_images = sample_images(['habitation'], n=1)\n",
    "\n",
    "for i in range(len(sampled_images)):\n",
    "    jpg = sample_to_fname(sampled_images, i, 'jpg')\n",
    "\n",
    "    try:\n",
    "        jpg_img = load_image(jpg)[:,:,:3]\n",
    "\n",
    "        fig = plt.figure()\n",
    "        plt.imshow(calibrate_image(jpg_img))\n",
    "    except:\n",
    "        continue"
   ]
  },
  {
   "cell_type": "markdown",
   "metadata": {},
   "source": [
    "## Lets try some machine learning\n",
    "\n",
    "We'll try a couple of different approaches\n",
    "\n",
    "1. Random Forests\n",
    "2. Image Feature Extraction\n",
    "3. Convolutional Neural Nets (if I have time)"
   ]
  },
  {
   "cell_type": "code",
   "execution_count": 62,
   "metadata": {
    "collapsed": false
   },
   "outputs": [
    {
     "data": {
      "text/html": [
       "<div>\n",
       "<table border=\"1\" class=\"dataframe\">\n",
       "  <thead>\n",
       "    <tr style=\"text-align: right;\">\n",
       "      <th></th>\n",
       "      <th>image_name</th>\n",
       "      <th>tags</th>\n",
       "      <th>haze</th>\n",
       "      <th>primary</th>\n",
       "      <th>agriculture</th>\n",
       "      <th>clear</th>\n",
       "      <th>water</th>\n",
       "      <th>habitation</th>\n",
       "      <th>road</th>\n",
       "      <th>cultivation</th>\n",
       "      <th>slash_burn</th>\n",
       "      <th>cloudy</th>\n",
       "      <th>partly_cloudy</th>\n",
       "      <th>conventional_mine</th>\n",
       "      <th>bare_ground</th>\n",
       "      <th>artisinal_mine</th>\n",
       "      <th>blooming</th>\n",
       "      <th>selective_logging</th>\n",
       "      <th>blow_down</th>\n",
       "    </tr>\n",
       "  </thead>\n",
       "  <tbody>\n",
       "    <tr>\n",
       "      <th>0</th>\n",
       "      <td>train_0</td>\n",
       "      <td>haze primary</td>\n",
       "      <td>1</td>\n",
       "      <td>1</td>\n",
       "      <td>0</td>\n",
       "      <td>0</td>\n",
       "      <td>0</td>\n",
       "      <td>0</td>\n",
       "      <td>0</td>\n",
       "      <td>0</td>\n",
       "      <td>0</td>\n",
       "      <td>0</td>\n",
       "      <td>0</td>\n",
       "      <td>0</td>\n",
       "      <td>0</td>\n",
       "      <td>0</td>\n",
       "      <td>0</td>\n",
       "      <td>0</td>\n",
       "      <td>0</td>\n",
       "    </tr>\n",
       "  </tbody>\n",
       "</table>\n",
       "</div>"
      ],
      "text/plain": [
       "  image_name          tags  haze  primary  agriculture  clear  water  \\\n",
       "0    train_0  haze primary     1        1            0      0      0   \n",
       "\n",
       "   habitation  road  cultivation  slash_burn  cloudy  partly_cloudy  \\\n",
       "0           0     0            0           0       0              0   \n",
       "\n",
       "   conventional_mine  bare_ground  artisinal_mine  blooming  \\\n",
       "0                  0            0               0         0   \n",
       "\n",
       "   selective_logging  blow_down  \n",
       "0                  0          0  "
      ]
     },
     "execution_count": 62,
     "metadata": {},
     "output_type": "execute_result"
    }
   ],
   "source": [
    "data.head(1)"
   ]
  },
  {
   "cell_type": "code",
   "execution_count": 63,
   "metadata": {
    "collapsed": false
   },
   "outputs": [
    {
     "name": "stdout",
     "output_type": "stream",
     "text": [
      "(100, 17)\n"
     ]
    },
    {
     "data": {
      "text/html": [
       "<div>\n",
       "<table border=\"1\" class=\"dataframe\">\n",
       "  <thead>\n",
       "    <tr style=\"text-align: right;\">\n",
       "      <th></th>\n",
       "      <th>haze</th>\n",
       "      <th>primary</th>\n",
       "      <th>agriculture</th>\n",
       "      <th>clear</th>\n",
       "      <th>water</th>\n",
       "      <th>habitation</th>\n",
       "      <th>road</th>\n",
       "      <th>cultivation</th>\n",
       "      <th>slash_burn</th>\n",
       "      <th>cloudy</th>\n",
       "      <th>partly_cloudy</th>\n",
       "      <th>conventional_mine</th>\n",
       "      <th>bare_ground</th>\n",
       "      <th>artisinal_mine</th>\n",
       "      <th>blooming</th>\n",
       "      <th>selective_logging</th>\n",
       "      <th>blow_down</th>\n",
       "    </tr>\n",
       "    <tr>\n",
       "      <th>image_name</th>\n",
       "      <th></th>\n",
       "      <th></th>\n",
       "      <th></th>\n",
       "      <th></th>\n",
       "      <th></th>\n",
       "      <th></th>\n",
       "      <th></th>\n",
       "      <th></th>\n",
       "      <th></th>\n",
       "      <th></th>\n",
       "      <th></th>\n",
       "      <th></th>\n",
       "      <th></th>\n",
       "      <th></th>\n",
       "      <th></th>\n",
       "      <th></th>\n",
       "      <th></th>\n",
       "    </tr>\n",
       "  </thead>\n",
       "  <tbody>\n",
       "    <tr>\n",
       "      <th>248</th>\n",
       "      <td>1</td>\n",
       "      <td>1</td>\n",
       "      <td>0</td>\n",
       "      <td>0</td>\n",
       "      <td>0</td>\n",
       "      <td>0</td>\n",
       "      <td>0</td>\n",
       "      <td>0</td>\n",
       "      <td>0</td>\n",
       "      <td>0</td>\n",
       "      <td>0</td>\n",
       "      <td>0</td>\n",
       "      <td>0</td>\n",
       "      <td>0</td>\n",
       "      <td>0</td>\n",
       "      <td>0</td>\n",
       "      <td>0</td>\n",
       "    </tr>\n",
       "    <tr>\n",
       "      <th>1131</th>\n",
       "      <td>0</td>\n",
       "      <td>1</td>\n",
       "      <td>0</td>\n",
       "      <td>0</td>\n",
       "      <td>0</td>\n",
       "      <td>0</td>\n",
       "      <td>0</td>\n",
       "      <td>0</td>\n",
       "      <td>0</td>\n",
       "      <td>0</td>\n",
       "      <td>1</td>\n",
       "      <td>0</td>\n",
       "      <td>0</td>\n",
       "      <td>0</td>\n",
       "      <td>0</td>\n",
       "      <td>0</td>\n",
       "      <td>0</td>\n",
       "    </tr>\n",
       "    <tr>\n",
       "      <th>1358</th>\n",
       "      <td>0</td>\n",
       "      <td>1</td>\n",
       "      <td>0</td>\n",
       "      <td>1</td>\n",
       "      <td>0</td>\n",
       "      <td>0</td>\n",
       "      <td>0</td>\n",
       "      <td>0</td>\n",
       "      <td>0</td>\n",
       "      <td>0</td>\n",
       "      <td>0</td>\n",
       "      <td>0</td>\n",
       "      <td>0</td>\n",
       "      <td>0</td>\n",
       "      <td>0</td>\n",
       "      <td>0</td>\n",
       "      <td>0</td>\n",
       "    </tr>\n",
       "    <tr>\n",
       "      <th>1480</th>\n",
       "      <td>0</td>\n",
       "      <td>1</td>\n",
       "      <td>0</td>\n",
       "      <td>1</td>\n",
       "      <td>1</td>\n",
       "      <td>0</td>\n",
       "      <td>0</td>\n",
       "      <td>0</td>\n",
       "      <td>0</td>\n",
       "      <td>0</td>\n",
       "      <td>0</td>\n",
       "      <td>0</td>\n",
       "      <td>0</td>\n",
       "      <td>0</td>\n",
       "      <td>0</td>\n",
       "      <td>0</td>\n",
       "      <td>0</td>\n",
       "    </tr>\n",
       "    <tr>\n",
       "      <th>1568</th>\n",
       "      <td>0</td>\n",
       "      <td>1</td>\n",
       "      <td>0</td>\n",
       "      <td>1</td>\n",
       "      <td>0</td>\n",
       "      <td>0</td>\n",
       "      <td>0</td>\n",
       "      <td>0</td>\n",
       "      <td>0</td>\n",
       "      <td>0</td>\n",
       "      <td>0</td>\n",
       "      <td>0</td>\n",
       "      <td>0</td>\n",
       "      <td>0</td>\n",
       "      <td>0</td>\n",
       "      <td>0</td>\n",
       "      <td>0</td>\n",
       "    </tr>\n",
       "  </tbody>\n",
       "</table>\n",
       "</div>"
      ],
      "text/plain": [
       "            haze  primary  agriculture  clear  water  habitation  road  \\\n",
       "image_name                                                               \n",
       "248            1        1            0      0      0           0     0   \n",
       "1131           0        1            0      0      0           0     0   \n",
       "1358           0        1            0      1      0           0     0   \n",
       "1480           0        1            0      1      1           0     0   \n",
       "1568           0        1            0      1      0           0     0   \n",
       "\n",
       "            cultivation  slash_burn  cloudy  partly_cloudy  conventional_mine  \\\n",
       "image_name                                                                      \n",
       "248                   0           0       0              0                  0   \n",
       "1131                  0           0       0              1                  0   \n",
       "1358                  0           0       0              0                  0   \n",
       "1480                  0           0       0              0                  0   \n",
       "1568                  0           0       0              0                  0   \n",
       "\n",
       "            bare_ground  artisinal_mine  blooming  selective_logging  \\\n",
       "image_name                                                             \n",
       "248                   0               0         0                  0   \n",
       "1131                  0               0         0                  0   \n",
       "1358                  0               0         0                  0   \n",
       "1480                  0               0         0                  0   \n",
       "1568                  0               0         0                  0   \n",
       "\n",
       "            blow_down  \n",
       "image_name             \n",
       "248                 0  \n",
       "1131                0  \n",
       "1358                0  \n",
       "1480                0  \n",
       "1568                0  "
      ]
     },
     "execution_count": 63,
     "metadata": {},
     "output_type": "execute_result"
    }
   ],
   "source": [
    "# Able to get y values but need to pull image pixels to get X values\n",
    "\n",
    "# Pull a list of 20000 image names\n",
    "jpg_list = os.listdir(\"train-jpg\")[:20000]\n",
    "# Select one\n",
    "np.random.shuffle(jpg_list)\n",
    "jpg_list = jpg_list[:100]\n",
    "\n",
    "index = []\n",
    "for _file in jpg_list:\n",
    "    index.append(_file[:-4])\n",
    "\n",
    "y= data.drop([\"tags\"], axis=1)\n",
    "y = y[y['image_name'].isin(index)]\n",
    "y = y.drop(['image_name'], axis=1)\n",
    "y.index.name = 'image_name'\n",
    "print y.shape\n",
    "y.head()"
   ]
  },
  {
   "cell_type": "code",
   "execution_count": 64,
   "metadata": {
    "collapsed": true
   },
   "outputs": [],
   "source": [
    "import numpy as np\n",
    "\n",
    "def pixel_values_to_df(jpg_list, df):\n",
    "    print \"processing images\"\n",
    "    pixels = []\n",
    "    for _file in jpg_list:        \n",
    "        # keep only the first 3 bands, RGB\n",
    "        _img = mpimg.imread(os.path.join(\"train-jpg\", _file))[:,:,:3]\n",
    "        \n",
    "        # Flatten 2-D to 1-D\n",
    "        _data = _img.reshape((-1,3))\n",
    "        \n",
    "        # Dump pixel values to list\n",
    "        for i in range(65536): \n",
    "            pixel = _data[i,:].tolist()\n",
    "            pixels.append(pixel)\n",
    "            \n",
    "        # Set Values in dataframe\n",
    "        \n",
    "       \n",
    "        \n",
    "#         Set Red values\n",
    "        for i in range(65536):\n",
    "            ri = str(i)+\"r\"\n",
    "            df.set_value(_file,ri,np.array(pixels[i][0]))\n",
    "            \n",
    "#             Set Green Values\n",
    "        for i in range(65536):\n",
    "            gi = str(i)+\"g\"\n",
    "            df.set_value(_file,gi,np.array(pixels[i][1]))\n",
    "\n",
    "#             Set blue values\n",
    "        for i in range(65536):\n",
    "            bi = str(i)+\"b\"\n",
    "            df.set_value(_file,bi,np.array(pixels[i][2]))\n",
    "\n",
    "    print \"done processing\"\n",
    "    return df"
   ]
  },
  {
   "cell_type": "code",
   "execution_count": null,
   "metadata": {
    "collapsed": false
   },
   "outputs": [],
   "source": [
    "col_names = []\n",
    "\n",
    "for i in range(65536):\n",
    "    col_names.append(str(i)+\"r\")\n",
    "    col_names.append(str(i)+\"g\")\n",
    "    col_names.append(str(i)+\"b\")"
   ]
  },
  {
   "cell_type": "code",
   "execution_count": null,
   "metadata": {
    "collapsed": false
   },
   "outputs": [
    {
     "name": "stdout",
     "output_type": "stream",
     "text": [
      "processing images\n"
     ]
    }
   ],
   "source": [
    "df = pd.DataFrame(index=jpg_list, columns=col_names)\n",
    "X = pixel_values_to_df(jpg_list, df)\n",
    "X.index.name = 'image_name'"
   ]
  },
  {
   "cell_type": "code",
   "execution_count": null,
   "metadata": {
    "collapsed": false
   },
   "outputs": [],
   "source": [
    "print \"Image Tags\"\n",
    "print y.shape\n",
    "y.head()"
   ]
  },
  {
   "cell_type": "code",
   "execution_count": null,
   "metadata": {
    "collapsed": false
   },
   "outputs": [],
   "source": [
    "# Verify data is formatted correctly\n",
    "print \"Pixel Data\"\n",
    "print X.shape\n",
    "X.head()\n"
   ]
  },
  {
   "cell_type": "code",
   "execution_count": null,
   "metadata": {
    "collapsed": false
   },
   "outputs": [],
   "source": [
    "# Training and Test Data Split\n",
    "from sklearn import model_selection\n",
    "X_train, X_test, y_train, y_test = model_selection.train_test_split(X, y, test_size=0.4, random_state=42)\n",
    "X_train.head()"
   ]
  },
  {
   "cell_type": "code",
   "execution_count": null,
   "metadata": {
    "collapsed": false
   },
   "outputs": [],
   "source": [
    "from sklearn import ensemble\n",
    "# Instantiate model\n",
    "rf = ensemble.RandomForestClassifier()\n",
    "# Train model on training set\n",
    "rf.fit(X_train, y_train)"
   ]
  },
  {
   "cell_type": "code",
   "execution_count": null,
   "metadata": {
    "collapsed": false
   },
   "outputs": [],
   "source": [
    "# Evaluate model on train set\n",
    "print \"Accuracy: %0.3f\" % rf.score(X_train, y_train)\n",
    "# Evaluate model on test set\n",
    "print \"Accuracy: %0.3f\" % rf.score(X_test, y_test)"
   ]
  },
  {
   "cell_type": "markdown",
   "metadata": {},
   "source": [
    "Ew. Low accuracy is no bueno. Lets finetune"
   ]
  },
  {
   "cell_type": "code",
   "execution_count": null,
   "metadata": {
    "collapsed": false
   },
   "outputs": [],
   "source": [
    "# Set list of values to grid search over\n",
    "n = [1, 2, 3, 10, 20, 30, 100, 200, 300]\n",
    "params = {'n_estimators': n}"
   ]
  },
  {
   "cell_type": "code",
   "execution_count": null,
   "metadata": {
    "collapsed": false
   },
   "outputs": [],
   "source": [
    "from sklearn import grid_search\n",
    "\n",
    "# Perform grid search using list of values\n",
    "gs = grid_search.GridSearchCV(\n",
    "    estimator=ensemble.RandomForestClassifier(min_samples_leaf=30),\n",
    "    param_grid=params)\n",
    "gs.fit(X_train, y_train)"
   ]
  },
  {
   "cell_type": "code",
   "execution_count": null,
   "metadata": {
    "collapsed": false
   },
   "outputs": [],
   "source": [
    "# Get best value to use\n",
    "print \"Best Params:\"\n",
    "print gs.best_params_"
   ]
  },
  {
   "cell_type": "code",
   "execution_count": null,
   "metadata": {
    "collapsed": false
   },
   "outputs": [],
   "source": [
    "# Get improvement\n",
    "print \"Accuracy of current model: %0.3f\" % rf.score(X_test, y_test)\n",
    "print \"Accuracy using best param: %0.3f\" % gs.best_score_"
   ]
  },
  {
   "cell_type": "code",
   "execution_count": null,
   "metadata": {
    "collapsed": false
   },
   "outputs": [],
   "source": [
    "# Plot scores\n",
    "plt.plot(n, [s[1] for s in gs.grid_scores_])"
   ]
  },
  {
   "cell_type": "code",
   "execution_count": null,
   "metadata": {
    "collapsed": false
   },
   "outputs": [],
   "source": [
    "# Current model params\n",
    "print rf\n",
    "print \"Accuracy of current model: %0.3f\" % rf.score(X_test, y_test)"
   ]
  },
  {
   "cell_type": "code",
   "execution_count": null,
   "metadata": {
    "collapsed": false
   },
   "outputs": [],
   "source": [
    "# Update model params\n",
    "rf.set_params(n_estimators=gs.best_params_['n_estimators'])\n",
    "# Retrain model on new params\n",
    "rf.fit(X_train, y_train)\n",
    "# Updated model params\n",
    "print rf\n",
    "print \"Accuracy of updated model: %0.3f\" % rf.score(X_test, y_test)"
   ]
  },
  {
   "cell_type": "markdown",
   "metadata": {},
   "source": [
    "Even with best parameters RandomForest can only correctly classify 27.5% of images\n",
    "\n",
    "We need to do some more work...\n",
    "\n",
    "Lets try image feature extraction using skimage!"
   ]
  },
  {
   "cell_type": "code",
   "execution_count": null,
   "metadata": {
    "collapsed": true
   },
   "outputs": [],
   "source": [
    "from skimage import data, io, filters\n"
   ]
  }
 ],
 "metadata": {
  "kernelspec": {
   "display_name": "Python 2",
   "language": "python",
   "name": "python2"
  },
  "language_info": {
   "codemirror_mode": {
    "name": "ipython",
    "version": 2
   },
   "file_extension": ".py",
   "mimetype": "text/x-python",
   "name": "python",
   "nbconvert_exporter": "python",
   "pygments_lexer": "ipython2",
   "version": "2.7.13"
  }
 },
 "nbformat": 4,
 "nbformat_minor": 2
}
